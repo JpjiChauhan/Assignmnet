{
  "nbformat": 4,
  "nbformat_minor": 0,
  "metadata": {
    "colab": {
      "provenance": []
    },
    "kernelspec": {
      "name": "python3",
      "display_name": "Python 3"
    },
    "language_info": {
      "name": "python"
    }
  },
  "cells": [
    {
      "cell_type": "code",
      "execution_count": 1,
      "metadata": {
        "id": "mjEMqqt2f5vC"
      },
      "outputs": [],
      "source": [
        "import pandas as pd\n",
        "from sklearn.metrics.pairwise import cosine_similarity\n",
        "from sklearn.preprocessing import OneHotEncoder, StandardScaler"
      ]
    },
    {
      "cell_type": "code",
      "source": [
        "customers = pd.read_csv(\"/content/sample_data/Customers.csv\")\n",
        "products = pd.read_csv(\"/content/sample_data/Products.csv\")\n",
        "transactions = pd.read_csv(\"/content/sample_data/Transactions.csv\")"
      ],
      "metadata": {
        "id": "u6bnxsxOgO2w"
      },
      "execution_count": 2,
      "outputs": []
    },
    {
      "cell_type": "code",
      "source": [
        "merged_data = transactions.merge(products, on='ProductID')\n",
        "merged_data = merged_data.merge(customers, on='CustomerID')"
      ],
      "metadata": {
        "id": "H_COSkDqgaks"
      },
      "execution_count": 3,
      "outputs": []
    },
    {
      "cell_type": "code",
      "source": [
        "# Aggregate transaction data by customer\n",
        "customer_profile = merged_data.groupby('CustomerID').agg({\n",
        "    'TotalValue': 'sum',                  # Total spending\n",
        "    'Quantity': 'sum',                   # Total quantity purchased\n",
        "    'Category': lambda x: ','.join(x),   # Categories purchased\n",
        "    'Region': 'first',                   # Customer region\n",
        "}).reset_index()\n",
        "\n",
        "# Add one-hot encoding for Region and Category\n",
        "encoder = OneHotEncoder()\n",
        "region_encoded = encoder.fit_transform(customer_profile[['Region']]).toarray()\n",
        "category_encoded = encoder.fit_transform(customer_profile[['Category']]).toarray()\n",
        "\n",
        "# Combine numerical and encoded features\n",
        "numerical_features = customer_profile[['TotalValue', 'Quantity']].values\n",
        "all_features = pd.concat([\n",
        "    pd.DataFrame(numerical_features),\n",
        "    pd.DataFrame(region_encoded),\n",
        "    pd.DataFrame(category_encoded)\n",
        "], axis=1)"
      ],
      "metadata": {
        "id": "3tIv2i7NgbSV"
      },
      "execution_count": 4,
      "outputs": []
    },
    {
      "cell_type": "code",
      "source": [
        "# Normalize features\n",
        "scaler = StandardScaler()\n",
        "scaled_features = scaler.fit_transform(all_features)\n",
        "\n",
        "# Compute cosine similarity\n",
        "similarity_matrix = cosine_similarity(scaled_features)"
      ],
      "metadata": {
        "id": "lEYuTCzvge0e"
      },
      "execution_count": 5,
      "outputs": []
    },
    {
      "cell_type": "code",
      "source": [
        "# Create Lookalike Map\n",
        "lookalike_map = {}\n",
        "\n",
        "for idx, customer_id in enumerate(customer_profile['CustomerID']):\n",
        "    # Get similarity scores for the current customer\n",
        "    scores = list(enumerate(similarity_matrix[idx]))\n",
        "\n",
        "    # Sort by similarity score (highest first) and exclude the customer itself\n",
        "    scores = sorted(scores, key=lambda x: x[1], reverse=True)\n",
        "    top_3 = scores[1:4]  # Top 3 similar customers\n",
        "\n",
        "    # Map customer to their top 3 lookalikes\n",
        "    lookalike_map[customer_id] = [\n",
        "        (customer_profile['CustomerID'][i], score) for i, score in top_3\n",
        "    ]\n",
        "\n",
        "# Prepare Lookalike.csv for first 20 customers\n",
        "lookalike_subset = {\n",
        "    k: v for k, v in list(lookalike_map.items())[:20]\n",
        "}\n",
        "\n",
        "# Convert to DataFrame and save as CSV\n",
        "lookalike_df = pd.DataFrame({\n",
        "    \"cust_id\": lookalike_subset.keys(),\n",
        "    \"lookalikes\": [v for v in lookalike_subset.values()]\n",
        "})\n",
        "\n",
        "lookalike_df.to_csv(\"Lookalike.csv\", index=False)"
      ],
      "metadata": {
        "id": "xxLjF7MWghC7"
      },
      "execution_count": 6,
      "outputs": []
    },
    {
      "cell_type": "code",
      "source": [],
      "metadata": {
        "id": "bb_cnTGrgjR4"
      },
      "execution_count": null,
      "outputs": []
    }
  ]
}